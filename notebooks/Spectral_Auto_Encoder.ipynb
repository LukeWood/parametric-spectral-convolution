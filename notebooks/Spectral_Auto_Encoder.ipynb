{
  "nbformat": 4,
  "nbformat_minor": 0,
  "metadata": {
    "colab": {
      "name": "Spectral-Auto-Encoder.ipynb",
      "provenance": [],
      "collapsed_sections": []
    },
    "kernelspec": {
      "name": "python3",
      "display_name": "Python 3"
    },
    "language_info": {
      "name": "python"
    },
    "accelerator": "GPU"
  },
  "cells": [
    {
      "cell_type": "markdown",
      "metadata": {
        "id": "0UirniOJCIqr"
      },
      "source": [
        "# Setup"
      ]
    },
    {
      "cell_type": "code",
      "metadata": {
        "colab": {
          "base_uri": "https://localhost:8080/",
          "height": 905
        },
        "id": "qhUinmg-FI4c",
        "outputId": "f42c54c3-245d-4de5-e9ed-0b36ca515184"
      },
      "source": [
        "!pip uninstall tensorflow keras --yes\n",
        "!pip install tensorflow==2.3"
      ],
      "execution_count": null,
      "outputs": [
        {
          "output_type": "stream",
          "text": [
            "Uninstalling tensorflow-2.3.0:\n",
            "  Successfully uninstalled tensorflow-2.3.0\n",
            "Uninstalling Keras-2.4.3:\n",
            "  Successfully uninstalled Keras-2.4.3\n",
            "Collecting tensorflow==2.3\n",
            "  Using cached https://files.pythonhosted.org/packages/16/89/f2d29c2eafc2eeafb17d5634340e06366af904d332341200a49d954bce85/tensorflow-2.3.0-cp37-cp37m-manylinux2010_x86_64.whl\n",
            "Requirement already satisfied: grpcio>=1.8.6 in /usr/local/lib/python3.7/dist-packages (from tensorflow==2.3) (1.34.1)\n",
            "Requirement already satisfied: absl-py>=0.7.0 in /usr/local/lib/python3.7/dist-packages (from tensorflow==2.3) (0.12.0)\n",
            "Requirement already satisfied: tensorboard<3,>=2.3.0 in /usr/local/lib/python3.7/dist-packages (from tensorflow==2.3) (2.5.0)\n",
            "Requirement already satisfied: astunparse==1.6.3 in /usr/local/lib/python3.7/dist-packages (from tensorflow==2.3) (1.6.3)\n",
            "Requirement already satisfied: numpy<1.19.0,>=1.16.0 in /usr/local/lib/python3.7/dist-packages (from tensorflow==2.3) (1.18.5)\n",
            "Requirement already satisfied: google-pasta>=0.1.8 in /usr/local/lib/python3.7/dist-packages (from tensorflow==2.3) (0.2.0)\n",
            "Requirement already satisfied: opt-einsum>=2.3.2 in /usr/local/lib/python3.7/dist-packages (from tensorflow==2.3) (3.3.0)\n",
            "Requirement already satisfied: wrapt>=1.11.1 in /usr/local/lib/python3.7/dist-packages (from tensorflow==2.3) (1.12.1)\n",
            "Requirement already satisfied: wheel>=0.26 in /usr/local/lib/python3.7/dist-packages (from tensorflow==2.3) (0.36.2)\n",
            "Requirement already satisfied: scipy==1.4.1 in /usr/local/lib/python3.7/dist-packages (from tensorflow==2.3) (1.4.1)\n",
            "Requirement already satisfied: termcolor>=1.1.0 in /usr/local/lib/python3.7/dist-packages (from tensorflow==2.3) (1.1.0)\n",
            "Requirement already satisfied: tensorflow-estimator<2.4.0,>=2.3.0 in /usr/local/lib/python3.7/dist-packages (from tensorflow==2.3) (2.3.0)\n",
            "Requirement already satisfied: keras-preprocessing<1.2,>=1.1.1 in /usr/local/lib/python3.7/dist-packages (from tensorflow==2.3) (1.1.2)\n",
            "Requirement already satisfied: protobuf>=3.9.2 in /usr/local/lib/python3.7/dist-packages (from tensorflow==2.3) (3.12.4)\n",
            "Requirement already satisfied: six>=1.12.0 in /usr/local/lib/python3.7/dist-packages (from tensorflow==2.3) (1.15.0)\n",
            "Requirement already satisfied: h5py<2.11.0,>=2.10.0 in /usr/local/lib/python3.7/dist-packages (from tensorflow==2.3) (2.10.0)\n",
            "Requirement already satisfied: gast==0.3.3 in /usr/local/lib/python3.7/dist-packages (from tensorflow==2.3) (0.3.3)\n",
            "Requirement already satisfied: requests<3,>=2.21.0 in /usr/local/lib/python3.7/dist-packages (from tensorboard<3,>=2.3.0->tensorflow==2.3) (2.23.0)\n",
            "Requirement already satisfied: tensorboard-plugin-wit>=1.6.0 in /usr/local/lib/python3.7/dist-packages (from tensorboard<3,>=2.3.0->tensorflow==2.3) (1.8.0)\n",
            "Requirement already satisfied: google-auth<2,>=1.6.3 in /usr/local/lib/python3.7/dist-packages (from tensorboard<3,>=2.3.0->tensorflow==2.3) (1.31.0)\n",
            "Requirement already satisfied: werkzeug>=0.11.15 in /usr/local/lib/python3.7/dist-packages (from tensorboard<3,>=2.3.0->tensorflow==2.3) (1.0.1)\n",
            "Requirement already satisfied: tensorboard-data-server<0.7.0,>=0.6.0 in /usr/local/lib/python3.7/dist-packages (from tensorboard<3,>=2.3.0->tensorflow==2.3) (0.6.1)\n",
            "Requirement already satisfied: markdown>=2.6.8 in /usr/local/lib/python3.7/dist-packages (from tensorboard<3,>=2.3.0->tensorflow==2.3) (3.3.4)\n",
            "Requirement already satisfied: setuptools>=41.0.0 in /usr/local/lib/python3.7/dist-packages (from tensorboard<3,>=2.3.0->tensorflow==2.3) (57.0.0)\n",
            "Requirement already satisfied: google-auth-oauthlib<0.5,>=0.4.1 in /usr/local/lib/python3.7/dist-packages (from tensorboard<3,>=2.3.0->tensorflow==2.3) (0.4.4)\n",
            "Requirement already satisfied: certifi>=2017.4.17 in /usr/local/lib/python3.7/dist-packages (from requests<3,>=2.21.0->tensorboard<3,>=2.3.0->tensorflow==2.3) (2021.5.30)\n",
            "Requirement already satisfied: urllib3!=1.25.0,!=1.25.1,<1.26,>=1.21.1 in /usr/local/lib/python3.7/dist-packages (from requests<3,>=2.21.0->tensorboard<3,>=2.3.0->tensorflow==2.3) (1.24.3)\n",
            "Requirement already satisfied: chardet<4,>=3.0.2 in /usr/local/lib/python3.7/dist-packages (from requests<3,>=2.21.0->tensorboard<3,>=2.3.0->tensorflow==2.3) (3.0.4)\n",
            "Requirement already satisfied: idna<3,>=2.5 in /usr/local/lib/python3.7/dist-packages (from requests<3,>=2.21.0->tensorboard<3,>=2.3.0->tensorflow==2.3) (2.10)\n",
            "Requirement already satisfied: rsa<5,>=3.1.4; python_version >= \"3.6\" in /usr/local/lib/python3.7/dist-packages (from google-auth<2,>=1.6.3->tensorboard<3,>=2.3.0->tensorflow==2.3) (4.7.2)\n",
            "Requirement already satisfied: cachetools<5.0,>=2.0.0 in /usr/local/lib/python3.7/dist-packages (from google-auth<2,>=1.6.3->tensorboard<3,>=2.3.0->tensorflow==2.3) (4.2.2)\n",
            "Requirement already satisfied: pyasn1-modules>=0.2.1 in /usr/local/lib/python3.7/dist-packages (from google-auth<2,>=1.6.3->tensorboard<3,>=2.3.0->tensorflow==2.3) (0.2.8)\n",
            "Requirement already satisfied: importlib-metadata; python_version < \"3.8\" in /usr/local/lib/python3.7/dist-packages (from markdown>=2.6.8->tensorboard<3,>=2.3.0->tensorflow==2.3) (4.5.0)\n",
            "Requirement already satisfied: requests-oauthlib>=0.7.0 in /usr/local/lib/python3.7/dist-packages (from google-auth-oauthlib<0.5,>=0.4.1->tensorboard<3,>=2.3.0->tensorflow==2.3) (1.3.0)\n",
            "Requirement already satisfied: pyasn1>=0.1.3 in /usr/local/lib/python3.7/dist-packages (from rsa<5,>=3.1.4; python_version >= \"3.6\"->google-auth<2,>=1.6.3->tensorboard<3,>=2.3.0->tensorflow==2.3) (0.4.8)\n",
            "Requirement already satisfied: zipp>=0.5 in /usr/local/lib/python3.7/dist-packages (from importlib-metadata; python_version < \"3.8\"->markdown>=2.6.8->tensorboard<3,>=2.3.0->tensorflow==2.3) (3.4.1)\n",
            "Requirement already satisfied: typing-extensions>=3.6.4; python_version < \"3.8\" in /usr/local/lib/python3.7/dist-packages (from importlib-metadata; python_version < \"3.8\"->markdown>=2.6.8->tensorboard<3,>=2.3.0->tensorflow==2.3) (3.7.4.3)\n",
            "Requirement already satisfied: oauthlib>=3.0.0 in /usr/local/lib/python3.7/dist-packages (from requests-oauthlib>=0.7.0->google-auth-oauthlib<0.5,>=0.4.1->tensorboard<3,>=2.3.0->tensorflow==2.3) (3.1.1)\n",
            "Installing collected packages: tensorflow\n",
            "Successfully installed tensorflow-2.3.0\n"
          ],
          "name": "stdout"
        },
        {
          "output_type": "display_data",
          "data": {
            "application/vnd.colab-display-data+json": {
              "pip_warning": {
                "packages": [
                  "tensorflow"
                ]
              }
            }
          },
          "metadata": {
            "tags": []
          }
        }
      ]
    },
    {
      "cell_type": "code",
      "metadata": {
        "colab": {
          "base_uri": "https://localhost:8080/",
          "height": 35
        },
        "id": "tVvw6kvmCp69",
        "outputId": "7dc57449-531e-494a-b5f1-286a60c84d23"
      },
      "source": [
        "import tensorflow as tf\n",
        "tf.__version__"
      ],
      "execution_count": null,
      "outputs": [
        {
          "output_type": "execute_result",
          "data": {
            "application/vnd.google.colaboratory.intrinsic+json": {
              "type": "string"
            },
            "text/plain": [
              "'2.3.0'"
            ]
          },
          "metadata": {
            "tags": []
          },
          "execution_count": 3
        }
      ]
    },
    {
      "cell_type": "code",
      "metadata": {
        "id": "-l2M3-e6zfVS",
        "colab": {
          "base_uri": "https://localhost:8080/"
        },
        "outputId": "2ed804d6-c06a-46cc-8f1d-13dfffc41ef2"
      },
      "source": [
        "%%bash\n",
        "git clone https://github.com/lukewood/spectral-neural-nets && cd spectral-neural-nets && pip install ."
      ],
      "execution_count": null,
      "outputs": [
        {
          "output_type": "stream",
          "text": [
            "Processing /content/spectral-neural-nets\n",
            "Building wheels for collected packages: spectral-neural-nets\n",
            "  Building wheel for spectral-neural-nets (setup.py): started\n",
            "  Building wheel for spectral-neural-nets (setup.py): finished with status 'done'\n",
            "  Created wheel for spectral-neural-nets: filename=spectral_neural_nets-0.0.3-cp37-none-any.whl size=7462 sha256=ad221b4961901f988be76b4bd3b04a422665a2708bf35b813abd2eaeb4b51de9\n",
            "  Stored in directory: /root/.cache/pip/wheels/c1/2b/22/fc28db8aee6ebf3692ba084a2d86572c33f3f5aa4e95c5e9a7\n",
            "Successfully built spectral-neural-nets\n",
            "Installing collected packages: spectral-neural-nets\n",
            "Successfully installed spectral-neural-nets-0.0.3\n"
          ],
          "name": "stdout"
        },
        {
          "output_type": "stream",
          "text": [
            "Cloning into 'spectral-neural-nets'...\n"
          ],
          "name": "stderr"
        }
      ]
    },
    {
      "cell_type": "code",
      "metadata": {
        "id": "52R7WH2C1e8G",
        "colab": {
          "base_uri": "https://localhost:8080/"
        },
        "outputId": "40062880-d140-4eb6-bad6-cc1e0fcb9a8c"
      },
      "source": [
        "from tensorflow.keras.datasets import mnist\n",
        "import numpy as np\n",
        "(train_data, _), (test_data, _) = mnist.load_data()\n",
        "train_data = train_data.astype(np.float32)/255.0\n",
        "test_data = test_data.astype(np.float32)/255.0"
      ],
      "execution_count": null,
      "outputs": [
        {
          "output_type": "stream",
          "text": [
            "Downloading data from https://storage.googleapis.com/tensorflow/tf-keras-datasets/mnist.npz\n",
            "11493376/11490434 [==============================] - 0s 0us/step\n"
          ],
          "name": "stdout"
        }
      ]
    },
    {
      "cell_type": "code",
      "metadata": {
        "id": "88wXbqQX7u7I"
      },
      "source": [
        "import matplotlib.pyplot as plt\n",
        "import numpy as np\n",
        "def display(array1, array2):\n",
        "    \"\"\"\n",
        "    Displays ten random images from each one of the supplied arrays.\n",
        "    \"\"\"\n",
        "\n",
        "    n = 10\n",
        "\n",
        "    indices = np.random.randint(len(array1), size=n)\n",
        "    images1 = array1[indices, :]\n",
        "    images2 = array2[indices, :]\n",
        "\n",
        "    plt.figure(figsize=(20, 4))\n",
        "    for i, (image1, image2) in enumerate(zip(images1, images2)):\n",
        "        ax = plt.subplot(2, n, i + 1)\n",
        "        plt.imshow(image1.reshape(28, 28))\n",
        "        plt.gray()\n",
        "        ax.get_xaxis().set_visible(False)\n",
        "        ax.get_yaxis().set_visible(False)\n",
        "\n",
        "        ax = plt.subplot(2, n, i + 1 + n)\n",
        "        plt.imshow(image2.reshape(28, 28))\n",
        "        plt.gray()\n",
        "        ax.get_xaxis().set_visible(False)\n",
        "        ax.get_yaxis().set_visible(False)\n",
        "\n",
        "    plt.show()"
      ],
      "execution_count": null,
      "outputs": []
    },
    {
      "cell_type": "markdown",
      "metadata": {
        "id": "puaj2S7s-b9a"
      },
      "source": [
        "# Baseline"
      ]
    },
    {
      "cell_type": "code",
      "metadata": {
        "id": "-ZXQ-w8G1jVK"
      },
      "source": [
        "import tensorflow as tf\n",
        "from tensorflow.keras.models import Model\n",
        "from tensorflow.keras import layers\n",
        "\n",
        "def create_model():\n",
        "  input = layers.Input(shape=(28, 28, 1))\n",
        "  # Encoder\n",
        "  x = layers.Conv2D(32, (3, 3), activation=\"relu\", padding=\"same\")(input)\n",
        "  x = layers.MaxPooling2D((2, 2), padding=\"same\")(x)\n",
        "  x = layers.Conv2D(32, (3, 3), activation=\"relu\", padding=\"same\")(x)\n",
        "  x = layers.MaxPooling2D((2, 2), padding=\"same\")(x)\n",
        "\n",
        "  # Decoder\n",
        "  x = layers.Conv2DTranspose(32, (3, 3), strides=2, activation=\"relu\", padding=\"same\")(x)\n",
        "  x = layers.Conv2DTranspose(32, (3, 3), strides=2, activation=\"relu\", padding=\"same\")(x)\n",
        "  x = layers.Conv2D(1, (3, 3), activation=\"sigmoid\", padding=\"same\")(x)\n",
        "  x = layers.Reshape((28, 28))(x)\n",
        "  # Autoencoder\n",
        "  autoencoder = Model(input, x)\n",
        "  autoencoder.compile(optimizer=\"adam\", loss=\"binary_crossentropy\")\n",
        "  return autoencoder"
      ],
      "execution_count": null,
      "outputs": []
    },
    {
      "cell_type": "code",
      "metadata": {
        "colab": {
          "base_uri": "https://localhost:8080/"
        },
        "id": "moycKIBZ4ct2",
        "outputId": "2782e336-0081-4053-f8e1-4e93e0a99d6b"
      },
      "source": [
        "model = create_model()\n",
        "model.summary()"
      ],
      "execution_count": null,
      "outputs": [
        {
          "output_type": "stream",
          "text": [
            "Model: \"functional_1\"\n",
            "_________________________________________________________________\n",
            "Layer (type)                 Output Shape              Param #   \n",
            "=================================================================\n",
            "input_1 (InputLayer)         [(None, 28, 28, 1)]       0         \n",
            "_________________________________________________________________\n",
            "conv2d (Conv2D)              (None, 28, 28, 32)        320       \n",
            "_________________________________________________________________\n",
            "max_pooling2d (MaxPooling2D) (None, 14, 14, 32)        0         \n",
            "_________________________________________________________________\n",
            "conv2d_1 (Conv2D)            (None, 14, 14, 32)        9248      \n",
            "_________________________________________________________________\n",
            "max_pooling2d_1 (MaxPooling2 (None, 7, 7, 32)          0         \n",
            "_________________________________________________________________\n",
            "conv2d_transpose (Conv2DTran (None, 14, 14, 32)        9248      \n",
            "_________________________________________________________________\n",
            "conv2d_transpose_1 (Conv2DTr (None, 28, 28, 32)        9248      \n",
            "_________________________________________________________________\n",
            "conv2d_2 (Conv2D)            (None, 28, 28, 1)         289       \n",
            "_________________________________________________________________\n",
            "reshape (Reshape)            (None, 28, 28)            0         \n",
            "=================================================================\n",
            "Total params: 28,353\n",
            "Trainable params: 28,353\n",
            "Non-trainable params: 0\n",
            "_________________________________________________________________\n"
          ],
          "name": "stdout"
        }
      ]
    },
    {
      "cell_type": "code",
      "metadata": {
        "colab": {
          "base_uri": "https://localhost:8080/"
        },
        "id": "4htJmOj87THK",
        "outputId": "9ddbaf9e-977f-418d-d7f2-80b2559e89b2"
      },
      "source": [
        "model.fit(\n",
        "    x=train_data,\n",
        "    y=train_data,\n",
        "    epochs=50,\n",
        "    batch_size=128,\n",
        "    shuffle=True,\n",
        "    validation_data=(test_data, test_data)\n",
        ")"
      ],
      "execution_count": null,
      "outputs": [
        {
          "output_type": "stream",
          "text": [
            "Epoch 1/50\n",
            "469/469 [==============================] - 5s 10ms/step - loss: 0.0676 - val_loss: 0.0669\n",
            "Epoch 2/50\n",
            "469/469 [==============================] - 4s 8ms/step - loss: 0.0670 - val_loss: 0.0663\n",
            "Epoch 3/50\n",
            "469/469 [==============================] - 3s 7ms/step - loss: 0.0665 - val_loss: 0.0658\n",
            "Epoch 4/50\n",
            "469/469 [==============================] - 3s 7ms/step - loss: 0.0661 - val_loss: 0.0655\n",
            "Epoch 5/50\n",
            "469/469 [==============================] - 3s 7ms/step - loss: 0.0658 - val_loss: 0.0652\n",
            "Epoch 6/50\n",
            "469/469 [==============================] - 3s 7ms/step - loss: 0.0655 - val_loss: 0.0649\n",
            "Epoch 7/50\n",
            "469/469 [==============================] - 3s 7ms/step - loss: 0.0653 - val_loss: 0.0647\n",
            "Epoch 8/50\n",
            "469/469 [==============================] - 3s 7ms/step - loss: 0.0650 - val_loss: 0.0645\n",
            "Epoch 9/50\n",
            "469/469 [==============================] - 3s 7ms/step - loss: 0.0649 - val_loss: 0.0643\n",
            "Epoch 10/50\n",
            "469/469 [==============================] - 3s 7ms/step - loss: 0.0647 - val_loss: 0.0642\n",
            "Epoch 11/50\n",
            "469/469 [==============================] - 3s 7ms/step - loss: 0.0645 - val_loss: 0.0640\n",
            "Epoch 12/50\n",
            "469/469 [==============================] - 3s 7ms/step - loss: 0.0644 - val_loss: 0.0640\n",
            "Epoch 13/50\n",
            "469/469 [==============================] - 3s 7ms/step - loss: 0.0643 - val_loss: 0.0639\n",
            "Epoch 14/50\n",
            "469/469 [==============================] - 3s 7ms/step - loss: 0.0642 - val_loss: 0.0637\n",
            "Epoch 15/50\n",
            "469/469 [==============================] - 3s 7ms/step - loss: 0.0640 - val_loss: 0.0637\n",
            "Epoch 16/50\n",
            "469/469 [==============================] - 4s 8ms/step - loss: 0.0640 - val_loss: 0.0637\n",
            "Epoch 17/50\n",
            "469/469 [==============================] - 3s 7ms/step - loss: 0.0639 - val_loss: 0.0635\n",
            "Epoch 18/50\n",
            "469/469 [==============================] - 3s 7ms/step - loss: 0.0638 - val_loss: 0.0634\n",
            "Epoch 19/50\n",
            "469/469 [==============================] - 3s 7ms/step - loss: 0.0637 - val_loss: 0.0633\n",
            "Epoch 20/50\n",
            "469/469 [==============================] - 3s 7ms/step - loss: 0.0637 - val_loss: 0.0633\n",
            "Epoch 21/50\n",
            "469/469 [==============================] - 3s 7ms/step - loss: 0.0636 - val_loss: 0.0632\n",
            "Epoch 22/50\n",
            "469/469 [==============================] - 3s 7ms/step - loss: 0.0636 - val_loss: 0.0632\n",
            "Epoch 23/50\n",
            "469/469 [==============================] - 4s 8ms/step - loss: 0.0635 - val_loss: 0.0631\n",
            "Epoch 24/50\n",
            "469/469 [==============================] - 3s 7ms/step - loss: 0.0634 - val_loss: 0.0630\n",
            "Epoch 25/50\n",
            "469/469 [==============================] - 3s 7ms/step - loss: 0.0634 - val_loss: 0.0630\n",
            "Epoch 26/50\n",
            "469/469 [==============================] - 3s 7ms/step - loss: 0.0633 - val_loss: 0.0629\n",
            "Epoch 27/50\n",
            "469/469 [==============================] - 3s 7ms/step - loss: 0.0633 - val_loss: 0.0630\n",
            "Epoch 28/50\n",
            "469/469 [==============================] - 3s 7ms/step - loss: 0.0633 - val_loss: 0.0629\n",
            "Epoch 29/50\n",
            "469/469 [==============================] - 3s 7ms/step - loss: 0.0632 - val_loss: 0.0628\n",
            "Epoch 30/50\n",
            "469/469 [==============================] - 3s 7ms/step - loss: 0.0632 - val_loss: 0.0628\n",
            "Epoch 31/50\n",
            "469/469 [==============================] - 3s 7ms/step - loss: 0.0631 - val_loss: 0.0630\n",
            "Epoch 32/50\n",
            "469/469 [==============================] - 3s 7ms/step - loss: 0.0631 - val_loss: 0.0627\n",
            "Epoch 33/50\n",
            "469/469 [==============================] - 3s 7ms/step - loss: 0.0631 - val_loss: 0.0628\n",
            "Epoch 34/50\n",
            "469/469 [==============================] - 3s 7ms/step - loss: 0.0630 - val_loss: 0.0626\n",
            "Epoch 35/50\n",
            "469/469 [==============================] - 3s 7ms/step - loss: 0.0630 - val_loss: 0.0626\n",
            "Epoch 36/50\n",
            "469/469 [==============================] - 3s 7ms/step - loss: 0.0630 - val_loss: 0.0626\n",
            "Epoch 37/50\n",
            "469/469 [==============================] - 3s 7ms/step - loss: 0.0630 - val_loss: 0.0626\n",
            "Epoch 38/50\n",
            "469/469 [==============================] - 3s 7ms/step - loss: 0.0629 - val_loss: 0.0626\n",
            "Epoch 39/50\n",
            "469/469 [==============================] - 3s 7ms/step - loss: 0.0629 - val_loss: 0.0625\n",
            "Epoch 40/50\n",
            "469/469 [==============================] - 3s 7ms/step - loss: 0.0629 - val_loss: 0.0625\n",
            "Epoch 41/50\n",
            "469/469 [==============================] - 3s 7ms/step - loss: 0.0629 - val_loss: 0.0625\n",
            "Epoch 42/50\n",
            "469/469 [==============================] - 3s 7ms/step - loss: 0.0628 - val_loss: 0.0625\n",
            "Epoch 43/50\n",
            "469/469 [==============================] - 3s 7ms/step - loss: 0.0628 - val_loss: 0.0626\n",
            "Epoch 44/50\n",
            "469/469 [==============================] - 3s 7ms/step - loss: 0.0628 - val_loss: 0.0624\n",
            "Epoch 45/50\n",
            "469/469 [==============================] - 3s 7ms/step - loss: 0.0628 - val_loss: 0.0624\n",
            "Epoch 46/50\n",
            "469/469 [==============================] - 3s 7ms/step - loss: 0.0628 - val_loss: 0.0624\n",
            "Epoch 47/50\n",
            "469/469 [==============================] - 4s 8ms/step - loss: 0.0627 - val_loss: 0.0624\n",
            "Epoch 48/50\n",
            "469/469 [==============================] - 3s 7ms/step - loss: 0.0627 - val_loss: 0.0624\n",
            "Epoch 49/50\n",
            "469/469 [==============================] - 3s 7ms/step - loss: 0.0627 - val_loss: 0.0623\n",
            "Epoch 50/50\n",
            "469/469 [==============================] - 3s 7ms/step - loss: 0.0627 - val_loss: 0.0623\n"
          ],
          "name": "stdout"
        },
        {
          "output_type": "execute_result",
          "data": {
            "text/plain": [
              "<tensorflow.python.keras.callbacks.History at 0x7fb340230410>"
            ]
          },
          "metadata": {
            "tags": []
          },
          "execution_count": 19
        }
      ]
    },
    {
      "cell_type": "code",
      "metadata": {
        "colab": {
          "base_uri": "https://localhost:8080/",
          "height": 175
        },
        "id": "C4V2BYvr7yJF",
        "outputId": "1fea7500-6a8a-4581-cf7e-f350995e718f"
      },
      "source": [
        "predictions = model.predict(test_data)\n",
        "display(test_data, predictions)"
      ],
      "execution_count": null,
      "outputs": [
        {
          "output_type": "display_data",
          "data": {
            "image/png": "[encoded data removed]",
            "text/plain": [
              "<Figure size 1440x288 with 20 Axes>"
            ]
          },
          "metadata": {
            "tags": [],
            "needs_background": "light"
          }
        }
      ]
    },
    {
      "cell_type": "markdown",
      "metadata": {
        "id": "w4AXKAUx-dfQ"
      },
      "source": [
        "# Gaussian Spectral Encoder, Spatial Decoder"
      ]
    },
    {
      "cell_type": "code",
      "metadata": {
        "id": "jFiLnPta-e7T"
      },
      "source": [
        "from spectral_neural_nets.layers import Gaussian2DFourierLayer, fft_layer, from_complex, to_complex, ifft_layer\n",
        "from keras import layers\n",
        "\n",
        "def spectral_block(x):\n",
        "  x = fft_layer(x)\n",
        "  x = from_complex(x)\n",
        "  x = Gaussian2DFourierLayer(32)(x)\n",
        "  x = layers.Activation('relu')(x)\n",
        "  x = to_complex(x)\n",
        "  x = ifft_layer(x)\n",
        "  x = layers.MaxPooling2D((2, 2), padding=\"same\")(x)\n",
        "  return x\n",
        "\n",
        "def create_spectral_model():\n",
        "  input = layers.Input(shape=(28, 28))\n",
        "  x = layers.Reshape((28, 28, 1))(input)\n",
        "\n",
        "  # Encoder\n",
        "  x = spectral_block(x)\n",
        "  x = spectral_block(x)\n",
        "  # Decoder\n",
        "  x = layers.Conv2DTranspose(32, (3, 3), strides=2, activation=\"relu\", padding=\"same\")(x)\n",
        "  x = layers.Conv2DTranspose(32, (3, 3), strides=2, activation=\"relu\", padding=\"same\")(x)\n",
        "  x = layers.Conv2D(1, (3, 3), activation=\"sigmoid\", padding=\"same\")(x)\n",
        "  x = layers.Reshape((28, 28))(x)\n",
        "  # Autoencoder\n",
        "  autoencoder = Model(input, x)\n",
        "  autoencoder.compile(optimizer=\"adam\", loss=\"binary_crossentropy\")\n",
        "  return autoencoder"
      ],
      "execution_count": null,
      "outputs": []
    },
    {
      "cell_type": "code",
      "metadata": {
        "colab": {
          "base_uri": "https://localhost:8080/"
        },
        "id": "fJBRREnA-jzL",
        "outputId": "5cdc7062-5514-4719-e6e5-c2017274ccf6"
      },
      "source": [
        "spectral_autoencoder = create_spectral_model()\n",
        "spectral_autoencoder.summary()"
      ],
      "execution_count": null,
      "outputs": [
        {
          "output_type": "stream",
          "text": [
            "Model: \"functional_3\"\n",
            "__________________________________________________________________________________________________\n",
            "Layer (type)                    Output Shape         Param #     Connected to                     \n",
            "==================================================================================================\n",
            "input_2 (InputLayer)            [(None, 28, 28)]     0                                            \n",
            "__________________________________________________________________________________________________\n",
            "reshape_1 (Reshape)             (None, 28, 28, 1)    0           input_2[0][0]                    \n",
            "__________________________________________________________________________________________________\n",
            "fft2d (Lambda)                  multiple             0           reshape_1[0][0]                  \n",
            "                                                                 max_pooling2d_2[0][0]            \n",
            "__________________________________________________________________________________________________\n",
            "from_complex (Lambda)           multiple             0           fft2d[0][0]                      \n",
            "                                                                 fft2d[1][0]                      \n",
            "__________________________________________________________________________________________________\n",
            "gaussian2d_fourier_layer (Gauss (None, 28, 15, 32, 2 384         from_complex[0][0]               \n",
            "__________________________________________________________________________________________________\n",
            "activation (Activation)         (None, 28, 15, 32, 2 0           gaussian2d_fourier_layer[0][0]   \n",
            "__________________________________________________________________________________________________\n",
            "to_complex (Lambda)             multiple             0           activation[0][0]                 \n",
            "                                                                 activation_1[0][0]               \n",
            "__________________________________________________________________________________________________\n",
            "irfft2d (Lambda)                multiple             0           to_complex[0][0]                 \n",
            "                                                                 to_complex[1][0]                 \n",
            "__________________________________________________________________________________________________\n",
            "max_pooling2d_2 (MaxPooling2D)  (None, 14, 14, 32)   0           irfft2d[0][0]                    \n",
            "__________________________________________________________________________________________________\n",
            "gaussian2d_fourier_layer_1 (Gau (None, 14, 8, 32, 2) 384         from_complex[1][0]               \n",
            "__________________________________________________________________________________________________\n",
            "activation_1 (Activation)       (None, 14, 8, 32, 2) 0           gaussian2d_fourier_layer_1[0][0] \n",
            "__________________________________________________________________________________________________\n",
            "max_pooling2d_3 (MaxPooling2D)  (None, 7, 7, 32)     0           irfft2d[1][0]                    \n",
            "__________________________________________________________________________________________________\n",
            "conv2d_transpose_2 (Conv2DTrans (None, 14, 14, 32)   9248        max_pooling2d_3[0][0]            \n",
            "__________________________________________________________________________________________________\n",
            "conv2d_transpose_3 (Conv2DTrans (None, 28, 28, 32)   9248        conv2d_transpose_2[0][0]         \n",
            "__________________________________________________________________________________________________\n",
            "conv2d_3 (Conv2D)               (None, 28, 28, 1)    289         conv2d_transpose_3[0][0]         \n",
            "__________________________________________________________________________________________________\n",
            "reshape_2 (Reshape)             (None, 28, 28)       0           conv2d_3[0][0]                   \n",
            "==================================================================================================\n",
            "Total params: 19,553\n",
            "Trainable params: 19,553\n",
            "Non-trainable params: 0\n",
            "__________________________________________________________________________________________________\n"
          ],
          "name": "stdout"
        }
      ]
    },
    {
      "cell_type": "code",
      "metadata": {
        "colab": {
          "base_uri": "https://localhost:8080/"
        },
        "id": "w9oo2-sMAoSC",
        "outputId": "e33cfcc3-672c-4786-a307-0ef43e32f690"
      },
      "source": [
        "spectral_autoencoder.fit(\n",
        "    x=train_data,\n",
        "    y=train_data,\n",
        "    epochs=50,\n",
        "    batch_size=128,\n",
        "    shuffle=True,\n",
        "    validation_data=(test_data, test_data)\n",
        ")"
      ],
      "execution_count": null,
      "outputs": [
        {
          "output_type": "stream",
          "text": [
            "Epoch 1/50\n",
            "469/469 [==============================] - 36s 76ms/step - loss: 0.2450 - val_loss: 0.1238\n",
            "Epoch 2/50\n",
            "469/469 [==============================] - 26s 55ms/step - loss: 0.1136 - val_loss: 0.1050\n",
            "Epoch 3/50\n",
            "469/469 [==============================] - 26s 55ms/step - loss: 0.1028 - val_loss: 0.0995\n",
            "Epoch 4/50\n",
            "469/469 [==============================] - 26s 55ms/step - loss: 0.0986 - val_loss: 0.0962\n",
            "Epoch 5/50\n",
            "469/469 [==============================] - 26s 55ms/step - loss: 0.0962 - val_loss: 0.0942\n",
            "Epoch 6/50\n",
            "469/469 [==============================] - 25s 54ms/step - loss: 0.0944 - val_loss: 0.0926\n",
            "Epoch 7/50\n",
            "469/469 [==============================] - 26s 55ms/step - loss: 0.0932 - val_loss: 0.0915\n",
            "Epoch 8/50\n",
            "469/469 [==============================] - 26s 55ms/step - loss: 0.0921 - val_loss: 0.0906\n",
            "Epoch 9/50\n",
            "469/469 [==============================] - 26s 54ms/step - loss: 0.0913 - val_loss: 0.0900\n",
            "Epoch 10/50\n",
            "469/469 [==============================] - 26s 55ms/step - loss: 0.0906 - val_loss: 0.0892\n",
            "Epoch 11/50\n",
            "469/469 [==============================] - 26s 55ms/step - loss: 0.0899 - val_loss: 0.0888\n",
            "Epoch 12/50\n",
            "469/469 [==============================] - 26s 55ms/step - loss: 0.0894 - val_loss: 0.0883\n",
            "Epoch 13/50\n",
            "469/469 [==============================] - 26s 55ms/step - loss: 0.0888 - val_loss: 0.0880\n",
            "Epoch 14/50\n",
            "469/469 [==============================] - 26s 55ms/step - loss: 0.0884 - val_loss: 0.0874\n",
            "Epoch 15/50\n",
            "469/469 [==============================] - 26s 55ms/step - loss: 0.0879 - val_loss: 0.0869\n",
            "Epoch 16/50\n",
            "469/469 [==============================] - 26s 54ms/step - loss: 0.0875 - val_loss: 0.0865\n",
            "Epoch 17/50\n",
            "469/469 [==============================] - 26s 55ms/step - loss: 0.0872 - val_loss: 0.0860\n",
            "Epoch 18/50\n",
            "469/469 [==============================] - 26s 54ms/step - loss: 0.0868 - val_loss: 0.0858\n",
            "Epoch 19/50\n",
            "469/469 [==============================] - 26s 55ms/step - loss: 0.0865 - val_loss: 0.0855\n",
            "Epoch 20/50\n",
            "469/469 [==============================] - 26s 55ms/step - loss: 0.0863 - val_loss: 0.0852\n",
            "Epoch 21/50\n",
            "469/469 [==============================] - 25s 54ms/step - loss: 0.0860 - val_loss: 0.0861\n",
            "Epoch 22/50\n",
            "469/469 [==============================] - 26s 55ms/step - loss: 0.0857 - val_loss: 0.0847\n",
            "Epoch 23/50\n",
            "469/469 [==============================] - 26s 55ms/step - loss: 0.0855 - val_loss: 0.0846\n",
            "Epoch 24/50\n",
            "469/469 [==============================] - 26s 55ms/step - loss: 0.0852 - val_loss: 0.0844\n",
            "Epoch 25/50\n",
            "469/469 [==============================] - 26s 54ms/step - loss: 0.0850 - val_loss: 0.0843\n",
            "Epoch 26/50\n",
            "469/469 [==============================] - 26s 55ms/step - loss: 0.0848 - val_loss: 0.0838\n",
            "Epoch 27/50\n",
            "469/469 [==============================] - 26s 55ms/step - loss: 0.0846 - val_loss: 0.0844\n",
            "Epoch 28/50\n",
            "469/469 [==============================] - 26s 55ms/step - loss: 0.0844 - val_loss: 0.0835\n",
            "Epoch 29/50\n",
            "469/469 [==============================] - 26s 55ms/step - loss: 0.0842 - val_loss: 0.0835\n",
            "Epoch 30/50\n",
            "469/469 [==============================] - 26s 55ms/step - loss: 0.0840 - val_loss: 0.0832\n",
            "Epoch 31/50\n",
            "469/469 [==============================] - 26s 55ms/step - loss: 0.0838 - val_loss: 0.0831\n",
            "Epoch 32/50\n",
            "469/469 [==============================] - 26s 55ms/step - loss: 0.0837 - val_loss: 0.0829\n",
            "Epoch 33/50\n",
            "469/469 [==============================] - 26s 55ms/step - loss: 0.0835 - val_loss: 0.0828\n",
            "Epoch 34/50\n",
            "469/469 [==============================] - 26s 55ms/step - loss: 0.0834 - val_loss: 0.0826\n",
            "Epoch 35/50\n",
            "469/469 [==============================] - 26s 55ms/step - loss: 0.0832 - val_loss: 0.0826\n",
            "Epoch 36/50\n",
            "469/469 [==============================] - 26s 55ms/step - loss: 0.0832 - val_loss: 0.0822\n",
            "Epoch 37/50\n",
            "469/469 [==============================] - 26s 55ms/step - loss: 0.0829 - val_loss: 0.0827\n",
            "Epoch 38/50\n",
            "469/469 [==============================] - 26s 55ms/step - loss: 0.0829 - val_loss: 0.0822\n",
            "Epoch 39/50\n",
            "469/469 [==============================] - 26s 55ms/step - loss: 0.0827 - val_loss: 0.0821\n",
            "Epoch 40/50\n",
            "469/469 [==============================] - 26s 55ms/step - loss: 0.0826 - val_loss: 0.0818\n",
            "Epoch 41/50\n",
            "469/469 [==============================] - 26s 55ms/step - loss: 0.0825 - val_loss: 0.0818\n",
            "Epoch 42/50\n",
            "469/469 [==============================] - 26s 55ms/step - loss: 0.0824 - val_loss: 0.0817\n",
            "Epoch 43/50\n",
            "469/469 [==============================] - 26s 55ms/step - loss: 0.0822 - val_loss: 0.0816\n",
            "Epoch 44/50\n",
            "469/469 [==============================] - 26s 55ms/step - loss: 0.0821 - val_loss: 0.0819\n",
            "Epoch 45/50\n",
            "469/469 [==============================] - 26s 55ms/step - loss: 0.0821 - val_loss: 0.0818\n",
            "Epoch 46/50\n",
            "469/469 [==============================] - 26s 55ms/step - loss: 0.0819 - val_loss: 0.0812\n",
            "Epoch 47/50\n",
            "469/469 [==============================] - 26s 55ms/step - loss: 0.0818 - val_loss: 0.0815\n",
            "Epoch 48/50\n",
            "469/469 [==============================] - 26s 55ms/step - loss: 0.0818 - val_loss: 0.0816\n",
            "Epoch 49/50\n",
            "469/469 [==============================] - 26s 55ms/step - loss: 0.0817 - val_loss: 0.0810\n",
            "Epoch 50/50\n",
            "469/469 [==============================] - 26s 55ms/step - loss: 0.0816 - val_loss: 0.0809\n"
          ],
          "name": "stdout"
        },
        {
          "output_type": "execute_result",
          "data": {
            "text/plain": [
              "<tensorflow.python.keras.callbacks.History at 0x7fb2b3b6f2d0>"
            ]
          },
          "metadata": {
            "tags": []
          },
          "execution_count": 23
        }
      ]
    },
    {
      "cell_type": "code",
      "metadata": {
        "id": "HAjhbba-A7uy",
        "colab": {
          "base_uri": "https://localhost:8080/",
          "height": 175
        },
        "outputId": "1dd62af8-0ba5-4629-9190-f8484c9fa6f3"
      },
      "source": [
        "predictions = model.predict(test_data)\n",
        "display(test_data, predictions)"
      ],
      "execution_count": null,
      "outputs": [
        {
          "output_type": "display_data",
          "data": {
            "image/png": "[encoded data removed]",
            "text/plain": [
              "<Figure size 1440x288 with 20 Axes>"
            ]
          },
          "metadata": {
            "tags": [],
            "needs_background": "light"
          }
        }
      ]
    }
  ]
}